{
 "cells": [
  {
   "cell_type": "markdown",
   "id": "d98dc781-c889-4bb6-8062-43c29b12c58c",
   "metadata": {},
   "source": [
    "Richard West\n",
    "27 May 2024"
   ]
  },
  {
   "cell_type": "markdown",
   "id": "533d89d2-8c8f-4e16-9625-73406889c611",
   "metadata": {},
   "source": [
    "# Example Dashboard"
   ]
  },
  {
   "cell_type": "markdown",
   "id": "fcc988d7-b51f-4b4d-a8f5-8b921d204b91",
   "metadata": {},
   "source": [
    "## Dashboard 1 - Coherence of two signals"
   ]
  },
  {
   "cell_type": "code",
   "execution_count": null,
   "id": "10163a8b-5eb6-42f2-9569-a24557d7b47a",
   "metadata": {},
   "outputs": [],
   "source": [
    "import matplotlib.pyplot as plt\n",
    "import numpy as np\n",
    "\n",
    "# Fixing random state for reproducibility\n",
    "np.random.seed(19680801)\n",
    "\n",
    "dt = 0.01\n",
    "t = np.arange(0, 30, dt)\n",
    "nse1 = np.random.randn(len(t))                 # white noise 1\n",
    "nse2 = np.random.randn(len(t))                 # white noise 2\n",
    "\n",
    "# Two signals with a coherent part at 10 Hz and a random part\n",
    "s1 = np.sin(2 * np.pi * 10 * t) + nse1\n",
    "s2 = np.sin(2 * np.pi * 10 * t) + nse2\n",
    "\n",
    "fig, axs = plt.subplots(2, 1, layout='constrained')\n",
    "axs[0].plot(t, s1, t, s2)\n",
    "axs[0].set_xlim(0, 2)\n",
    "axs[0].set_xlabel('Time (s)')\n",
    "axs[0].set_ylabel('s1 and s2')\n",
    "axs[0].grid(True)\n",
    "\n",
    "cxy, f = axs[1].cohere(s1, s2, 256, 1. / dt)\n",
    "axs[1].set_ylabel('Coherence')\n",
    "\n",
    "plt.show()"
   ]
  },
  {
   "cell_type": "markdown",
   "id": "041141ac-d6c0-473a-b5bf-4fda087140af",
   "metadata": {},
   "source": [
    "An example showing how to plot the coherence of two signals using cohere."
   ]
  },
  {
   "cell_type": "markdown",
   "id": "083feb54-8233-4342-a6e6-2fdd456d4f0f",
   "metadata": {},
   "source": [
    "## Dashboard 2 - Power Spectral Density"
   ]
  },
  {
   "cell_type": "code",
   "execution_count": null,
   "id": "93f4e186-81b4-4b6c-8466-17dd8882237e",
   "metadata": {},
   "outputs": [],
   "source": [
    "import matplotlib.pyplot as plt\n",
    "import numpy as np\n",
    "\n",
    "fig, (ax1, ax2) = plt.subplots(2, 1, layout='constrained')\n",
    "\n",
    "dt = 0.01\n",
    "t = np.arange(0, 30, dt)\n",
    "\n",
    "# Fixing random state for reproducibility\n",
    "np.random.seed(19680801)\n",
    "\n",
    "\n",
    "nse1 = np.random.randn(len(t))                 # white noise 1\n",
    "nse2 = np.random.randn(len(t))                 # white noise 2\n",
    "r = np.exp(-t / 0.05)\n",
    "\n",
    "cnse1 = np.convolve(nse1, r, mode='same') * dt   # colored noise 1\n",
    "cnse2 = np.convolve(nse2, r, mode='same') * dt   # colored noise 2\n",
    "\n",
    "# two signals with a coherent part and a random part\n",
    "s1 = 0.01 * np.sin(2 * np.pi * 10 * t) + cnse1\n",
    "s2 = 0.01 * np.sin(2 * np.pi * 10 * t) + cnse2\n",
    "\n",
    "ax1.plot(t, s1, t, s2)\n",
    "ax1.set_xlim(0, 5)\n",
    "ax1.set_xlabel('Time (s)')\n",
    "ax1.set_ylabel('s1 and s2')\n",
    "ax1.grid(True)\n",
    "\n",
    "cxy, f = ax2.csd(s1, s2, 256, 1. / dt)\n",
    "ax2.set_ylabel('CSD (dB)')\n",
    "\n",
    "plt.show()"
   ]
  },
  {
   "cell_type": "markdown",
   "id": "d5e2b1f1-eaed-4bc4-9295-dd463c85eaca",
   "metadata": {},
   "source": [
    "Plot the cross spectral density (CSD) of two signals using csd."
   ]
  },
  {
   "cell_type": "markdown",
   "id": "5614ce1e-2379-4bac-9614-aebfccdfd03d",
   "metadata": {},
   "source": [
    "## Dashboard 3 - Hatch-filled Histograms"
   ]
  },
  {
   "cell_type": "code",
   "execution_count": null,
   "id": "38e1f7a0-ca7c-4f0f-a5d2-a88eae8d0e35",
   "metadata": {},
   "outputs": [],
   "source": [
    "import matplotlib.pyplot as plt\n",
    "import numpy as np\n",
    "\n",
    "import matplotlib.mlab as mlab\n",
    "\n",
    "# Fixing random state for reproducibility\n",
    "np.random.seed(19680801)\n",
    "\n",
    "dt = 0.01\n",
    "t = np.arange(0, 10, dt)\n",
    "nse = np.random.randn(len(t))\n",
    "r = np.exp(-t / 0.05)\n",
    "\n",
    "cnse = np.convolve(nse, r) * dt\n",
    "cnse = cnse[:len(t)]\n",
    "s = 0.1 * np.sin(2 * np.pi * t) + cnse\n",
    "\n",
    "fig, (ax0, ax1) = plt.subplots(2, 1, layout='constrained')\n",
    "ax0.plot(t, s)\n",
    "ax0.set_xlabel('Time (s)')\n",
    "ax0.set_ylabel('Signal')\n",
    "ax1.psd(s, 512, 1 / dt)\n",
    "\n",
    "plt.show()"
   ]
  },
  {
   "cell_type": "markdown",
   "id": "eb4bcbde-442b-4877-941b-67eab16c34e9",
   "metadata": {},
   "source": [
    "Plotting power spectral density (PSD) using psd.\n",
    "\n",
    "The PSD is a common plot in the field of signal processing. NumPy has many useful libraries for computing a PSD. Below we demo a few examples of how this can be accomplished and visualized with Matplotlib."
   ]
  },
  {
   "cell_type": "markdown",
   "id": "1a95a426-21d1-46a3-a728-c520dafd7ada",
   "metadata": {},
   "source": [
    "# Running Voila on Localhost"
   ]
  },
  {
   "cell_type": "markdown",
   "id": "eaf3e7bb-44f9-412d-af42-07656683684e",
   "metadata": {},
   "source": [
    "Type localhost:8888/voila\n",
    "\n",
    "This will bring up the voila dashboard. Alternatively:\n",
    "\n",
    "http://localhost:8888/voila/render/Desktop/code/ec/week9/dashboard-test.ipynb?\n",
    "\n",
    "Would give the rendered version of this notebook for example. Using localhost:8888/voila/render/.."
   ]
  }
 ],
 "metadata": {
  "kernelspec": {
   "display_name": "Python 3 (ipykernel)",
   "language": "python",
   "name": "python3"
  },
  "language_info": {
   "codemirror_mode": {
    "name": "ipython",
    "version": 3
   },
   "file_extension": ".py",
   "mimetype": "text/x-python",
   "name": "python",
   "nbconvert_exporter": "python",
   "pygments_lexer": "ipython3",
   "version": "3.12.2"
  }
 },
 "nbformat": 4,
 "nbformat_minor": 5
}
